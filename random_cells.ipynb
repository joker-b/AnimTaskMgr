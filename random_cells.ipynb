{
  "nbformat": 4,
  "nbformat_minor": 0,
  "metadata": {
    "colab": {
      "name": "random-cells.ipynb",
      "private_outputs": true,
      "provenance": [],
      "collapsed_sections": [],
      "authorship_tag": "ABX9TyMjtVnJK+3LatUD0riTggl2",
      "include_colab_link": true
    },
    "kernelspec": {
      "name": "python3",
      "display_name": "Python 3"
    },
    "language_info": {
      "name": "python"
    }
  },
  "cells": [
    {
      "cell_type": "markdown",
      "metadata": {
        "id": "view-in-github",
        "colab_type": "text"
      },
      "source": [
        "<a href=\"https://colab.research.google.com/github/joker-b/AnimTaskMgr/blob/master/random_cells.ipynb\" target=\"_parent\"><img src=\"https://colab.research.google.com/assets/colab-badge.svg\" alt=\"Open In Colab\"/></a>"
      ]
    },
    {
      "cell_type": "code",
      "metadata": {
        "id": "QwKDW3Izpb-2",
        "cellView": "form"
      },
      "source": [
        "#@title Any old graph\n",
        "import matplotlib.pyplot as plt\n",
        "import numpy\n",
        "\n",
        "x  = [1, 2, 3, 4, 5, 6, 7, 8, 9]\n",
        "y1 = [1, 3, 5, 3, 1, 3, 5, 3, 1]\n",
        "y2 = [2, 4, 6, 4, 2, 4, 6, 4, 2]\n",
        "plt.plot(x, y1, label=\"line L\")\n",
        "plt.plot(x, y2, label=\"line H\")\n",
        "plt.plot()\n",
        "\n",
        "plt.xlabel(\"x axis\")\n",
        "plt.ylabel(\"y axis\")\n",
        "plt.title(\"Line Graph Example\")\n",
        "plt.legend()\n",
        "plt.show()"
      ],
      "execution_count": null,
      "outputs": []
    },
    {
      "cell_type": "code",
      "metadata": {
        "id": "oRqd6-APq9td",
        "cellView": "form"
      },
      "source": [
        "#@title with numpy\n",
        "import matplotlib.pyplot as plt\n",
        "import numpy as np\n",
        "\n",
        "yn  = np.random.rand(30)\n",
        "plt.plot(yn, label=\"line R\")\n",
        "plt.plot()\n",
        "\n",
        "plt.ylabel(\"rando\")\n",
        "plt.title(\"numpy Example\")\n",
        "plt.legend()\n",
        "plt.show()"
      ],
      "execution_count": null,
      "outputs": []
    },
    {
      "cell_type": "code",
      "metadata": {
        "id": "u3Mut2nbrR7H",
        "cellView": "form"
      },
      "source": [
        "#@title histogram samples\n",
        "# Use numpy to generate a bunch of random data in a bell curve around 5.\n",
        "import matplotlib.pyplot as plt\n",
        "import numpy as np\n",
        "\n",
        "n = 5 + np.random.randn(1000)\n",
        "\n",
        "m = [m for m in range(len(n))]\n",
        "plt.bar(m, n)\n",
        "plt.title(\"Raw Data\")\n",
        "plt.show()\n",
        "\n",
        "#@markdown this is <font color=red>almost fun</font>\n",
        "plt.hist(n, bins=20)\n",
        "plt.title(\"Histogram\")\n",
        "plt.show()\n",
        "\n",
        "plt.figure(figsize=(5, 1.5))\n",
        "plt.hist(n, cumulative=True, bins=20)\n",
        "plt.title(\"Cumulative Histogram\")\n",
        "plt.show()\n",
        "\n",
        "xv = np.linspace(0, 2 * np.pi, 400)\n",
        "yv = np.sin(xv ** 2)\n",
        "fig, (ax1, ax2) = plt.subplots(1, 2)\n",
        "fig.suptitle('Horizontally stacked subplots')\n",
        "ax1.plot(xv, yv)\n",
        "ax2.plot(xv, -yv)\n",
        "plt.show()\n",
        "\n",
        "#@markdown $\\color{red}{\\text{ciao}}$\n",
        "#@markdown $y=x^2$"
      ],
      "execution_count": null,
      "outputs": []
    },
    {
      "cell_type": "code",
      "metadata": {
        "cellView": "form",
        "id": "wdtQcc7Xa4c8"
      },
      "source": [
        "#@title Google Drive Integration (optional)\n",
        "#@markdown To connect Google Drive, set `root_path` to the relative drive folder path you want outputs to be saved to if you already made a directory, then execute this cell. Leaving the field blank or just not running this will have outputs save to the runtime temp storage.\n",
        "import os\n",
        "root_path = \"CLIP-Draw\" #@param {type: \"string\"}\n",
        "abs_root_path = \"/content\"\n",
        "if len(root_path) > 0:\n",
        "    abs_root_path = abs_root_path + \"/drive/MyDrive/\" + root_path\n",
        " \n",
        "from google.colab import drive\n",
        "drive.mount('/content/drive')\n",
        " \n",
        "def ensureProperRootPath():\n",
        "    if len(abs_root_path) > 0:\n",
        "        os.chdir(abs_root_path) # Changes directory to absolute root path\n",
        "        print(\"Root path check: \")\n",
        "        !pwd\n",
        " \n",
        "ensureProperRootPath()"
      ],
      "execution_count": null,
      "outputs": []
    },
    {
      "cell_type": "code",
      "metadata": {
        "id": "8EyV340GO9su"
      },
      "source": [
        "#@title read a picture\n",
        "!pip install pillow==7.1.2 \n",
        "\n",
        "from PIL import ImageFile, Image\n",
        "import numpy as np\n",
        "import matplotlib.pyplot as plt\n",
        "\n",
        "img_name = '/content/drive/MyDrive/kbImport/Pix/2021/Work2021g/starters/iko-bw-sq.jpg'\n",
        "\n",
        "pil_image = Image.open(img_name).convert('RGB')\n",
        "\n",
        "nd = 1500\n",
        "xa = np.zeros(nd)\n",
        "ya = np.zeros(nd)\n",
        "n = 0\n",
        "while n < nd:\n",
        "  x = np.random.randint(pil_image.width)\n",
        "  y = np.random.randint(pil_image.height)\n",
        "  v = pil_image.getpixel((x, y))[0]\n",
        "  if np.random.randint(256) < v:\n",
        "    xa[n] = x\n",
        "    ya[n] = pil_image.height - y\n",
        "    n = n + 1\n",
        "\n",
        "plt.scatter(xa, ya)\n",
        "plt.title('Scatter Plot Example')\n",
        "plt.show()\n",
        "\n",
        "\n"
      ],
      "execution_count": null,
      "outputs": []
    }
  ]
}